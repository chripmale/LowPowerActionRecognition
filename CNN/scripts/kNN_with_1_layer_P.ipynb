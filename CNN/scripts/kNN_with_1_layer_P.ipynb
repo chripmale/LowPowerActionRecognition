{
 "cells": [
  {
   "cell_type": "code",
   "execution_count": 1,
   "metadata": {},
   "outputs": [],
   "source": [
    "import os\n",
    "import numpy as np\n",
    "import random\n",
    "from past.builtins import xrange\n",
    "import math\n",
    "import operator"
   ]
  },
  {
   "cell_type": "code",
   "execution_count": 2,
   "metadata": {},
   "outputs": [],
   "source": [
    "class KNearestNeighbor(object):\n",
    "  \"\"\" a kNN classifier with L2 distance \"\"\"\n",
    "\n",
    "  def __init__(self):\n",
    "    pass\n",
    "\n",
    "  def train(self, X, y):\n",
    "    \"\"\"\n",
    "    Train the classifier. For k-nearest neighbors this is just \n",
    "    memorizing the training data.\n",
    "    Inputs:\n",
    "    - X: A numpy array of shape (num_train, D) containing the training data\n",
    "      consisting of num_train samples each of dimension D.\n",
    "    - y: A numpy array of shape (N,) containing the training labels, where\n",
    "         y[i] is the label for X[i].\n",
    "    \"\"\"\n",
    "    self.X_train = X\n",
    "    self.y_train = y\n",
    "    \n",
    "  def predict(self, X, k=1, num_loops=0):\n",
    "    \"\"\"\n",
    "    Predict labels for test data using this classifier.\n",
    "    Inputs:\n",
    "    - X: A numpy array of shape (num_test, D) containing test data consisting\n",
    "         of num_test samples each of dimension D.\n",
    "    - k: The number of nearest neighbors that vote for the predicted labels.\n",
    "    - num_loops: Determines which implementation to use to compute distances\n",
    "      between training points and testing points.\n",
    "    Returns:\n",
    "    - y: A numpy array of shape (num_test,) containing predicted labels for the\n",
    "      test data, where y[i] is the predicted label for the test point X[i].  \n",
    "    \"\"\"\n",
    "    if num_loops == 0:\n",
    "      dists = self.compute_distances_no_loops(X)\n",
    "\n",
    "    return self.predict_labels(dists, k=k)\n",
    "\n",
    "  \n",
    "\n",
    "  def compute_distances_no_loops(self, X):\n",
    "    \"\"\"\n",
    "    Compute the distance between each test point in X and each training point\n",
    "    in self.X_train using no explicit loops.\n",
    "    Input / Output: Same as compute_distances_two_loops\n",
    "    \"\"\"\n",
    "    num_test = X.shape[0]\n",
    "    num_train = self.X_train.shape[0]\n",
    "    dists = np.zeros((num_test, num_train)) \n",
    "    \n",
    "\n",
    "    # L2 distance vectorized.\n",
    "    X_squared = np.sum(X**2,axis=1)\n",
    "    Y_squared = np.sum(self.X_train**2,axis=1)\n",
    "    XY = np.dot(X, self.X_train.T)\n",
    "\n",
    "    # Expand L2 distance formula to get L2(X,Y) = sqrt((X-Y)^2) = sqrt(X^2 + Y^2 -2XY)\n",
    "    dists = np.sqrt(X_squared[:,np.newaxis] + Y_squared -2*XY)\n",
    "    return dists\n",
    "\n",
    "  def predict_labels(self, dists, k=1):\n",
    "    \"\"\"\n",
    "    Given a matrix of distances between test points and training points,\n",
    "    predict a label for each test point.\n",
    "    Inputs:\n",
    "    - dists: A numpy array of shape (num_test, num_train) where dists[i, j]\n",
    "      gives the distance betwen the ith test point and the jth training point.\n",
    "    Returns:\n",
    "    - y: A numpy array of shape (num_test,) containing predicted labels for the\n",
    "      test data, where y[i] is the predicted label for the test point X[i].  \n",
    "    \"\"\"\n",
    "    num_test = dists.shape[0]\n",
    "    y_pred = np.zeros(num_test)\n",
    "    for i in range(num_test):\n",
    "      # A list of length k storing the labels of the k nearest neighbors to\n",
    "      # the ith test point.\n",
    "      closest_y = []\n",
    "\n",
    "      # Select a test row.\n",
    "      test_row = dists[i,:]\n",
    "\n",
    "      # np.argsort returns indices of sorted input.\n",
    "      sorted_row = np.argsort(test_row)\n",
    "\n",
    "      # Get the k closest indices.\n",
    "      closest_y = self.y_train[sorted_row[0:k]]\n",
    "\n",
    "      # Find the most occuring index in our closest k.\n",
    "      y_pred[i] = np.argmax(np.bincount(closest_y))\n",
    "\n",
    "    return y_pred"
   ]
  },
  {
   "cell_type": "code",
   "execution_count": 3,
   "metadata": {},
   "outputs": [],
   "source": [
    "def load_NMNIST(path):\n",
    "    xs_train = []\n",
    "    ys_train = []\n",
    "    xs_test = []\n",
    "    ys_test = []\n",
    "\n",
    "    for class_index in range(0, 10):\n",
    "        for (root, dirs, dat_files) in os.walk('{0}/n_Train/{1}'.format(path, str(class_index))):\n",
    "            for file in dat_files:\n",
    "                single_X = np.fromfile('{0}/n_Train/{1}/{2}'.format(path, str(class_index), file), dtype=np.int32)\n",
    "                xs_train.append(single_X)\n",
    "                ys_train.append(class_index)\n",
    "\n",
    "        for (root, dirs, dat_files) in os.walk('{0}/n_Test/{1}'.format(path, str(class_index))):\n",
    "            for file in dat_files:\n",
    "                xs_test.append(np.fromfile('{0}/n_Test/{1}/{2}'.format(path, str(class_index), file), dtype=np.int32))\n",
    "                ys_test.append(class_index)\n",
    "\n",
    "    X_train = np.array(xs_train)\n",
    "    y_train = np.array(ys_train)\n",
    "    X_test = np.array(xs_test)\n",
    "    y_test = np.array(ys_test)\n",
    "\n",
    "    return X_train, y_train, X_test, y_test"
   ]
  },
  {
   "cell_type": "code",
   "execution_count": 4,
   "metadata": {},
   "outputs": [
    {
     "name": "stdout",
     "output_type": "stream",
     "text": [
      "Training data shape:  (60000, 1156)\n",
      "Training labels shape:  (60000,)\n",
      "Test data shape:  (10000, 1156)\n",
      "Test labels shape:  (10000,)\n"
     ]
    }
   ],
   "source": [
    "data_set_path = 'C:/Users/Justin/Documents/LowPowerActionRecognition/CNN/datasets'\n",
    "data = load_NMNIST(data_set_path)\n",
    "\n",
    "#initialise data\n",
    "\n",
    "X_train = data[0]\n",
    "y_train = data[1]\n",
    "X_test = data[2]\n",
    "y_test = data[3]\n",
    "\n",
    "# As a sanity check, we print out the size of the training and test data.\n",
    "print('Training data shape: ', X_train.shape)\n",
    "print('Training labels shape: ', y_train.shape)\n",
    "print('Test data shape: ', X_test.shape)\n",
    "print('Test labels shape: ', y_test.shape)"
   ]
  },
  {
   "cell_type": "code",
   "execution_count": 5,
   "metadata": {},
   "outputs": [],
   "source": [
    "# Subsample the data for more efficient code execution in this exercise\n",
    "num_training = 60000\n",
    "mask = list(range(num_training))\n",
    "X_train = X_train[mask]\n",
    "y_train = y_train[mask]\n",
    "\n",
    "num_test = 10000\n",
    "mask = list(range(num_test))\n",
    "X_test = X_test[mask]\n",
    "y_test = y_test[mask]"
   ]
  },
  {
   "cell_type": "code",
   "execution_count": 6,
   "metadata": {},
   "outputs": [
    {
     "name": "stdout",
     "output_type": "stream",
     "text": [
      "(60000, 1156) (10000, 1156)\n"
     ]
    }
   ],
   "source": [
    "# flatten out all images to be one-dimensional\n",
    "X_train = X_train.reshape(X_train.shape[0], 34 * 34 * 1) # Ptr_rows becomes [number of training sets] x 2312\n",
    "X_test = X_test.reshape(X_test.shape[0], 34 * 34 * 1) # Pte_rows becomes [number of testing sets] x 2312\n",
    "print(X_train.shape, X_test.shape)"
   ]
  },
  {
   "cell_type": "code",
   "execution_count": 7,
   "metadata": {},
   "outputs": [],
   "source": [
    "#from kNN_classifier import KNearestNeighbor\n",
    "\n",
    "# Create a kNN classifier instance. \n",
    "# Remember that training a kNN classifier is a noop: \n",
    "# the Classifier simply remembers the data and does no further processing \n",
    "classifier = KNearestNeighbor()\n",
    "classifier.train(X_train, y_train)"
   ]
  },
  {
   "cell_type": "code",
   "execution_count": 8,
   "metadata": {},
   "outputs": [
    {
     "name": "stdout",
     "output_type": "stream",
     "text": [
      "(10000, 60000)\n",
      "Got 9258 / 10000 correct => accuracy: 0.925800\n"
     ]
    }
   ],
   "source": [
    "dists = classifier.compute_distances_no_loops(X_test)\n",
    "print(dists.shape) #Check dists dimension\n",
    "# Now implement the function predict_labels and run the code below:\n",
    "# We use k = 1 (which is Nearest Neighbor).\n",
    "y_test_pred = classifier.predict_labels(dists, k=1)\n",
    "\n",
    "# Compute and print the fraction of correctly predicted examples\n",
    "num_correct = np.sum(y_test_pred == y_test)\n",
    "accuracy = float(num_correct) / num_test\n",
    "print('Got %d / %d correct => accuracy: %f' % (num_correct, num_test, accuracy))"
   ]
  },
  {
   "cell_type": "code",
   "execution_count": 9,
   "metadata": {},
   "outputs": [
    {
     "name": "stdout",
     "output_type": "stream",
     "text": [
      "Got 9308 / 10000 correct => accuracy: 0.930800\n"
     ]
    }
   ],
   "source": [
    "#k=5 test\n",
    "y_test_pred = classifier.predict_labels(dists, k=5)\n",
    "num_correct = np.sum(y_test_pred == y_test)\n",
    "accuracy = float(num_correct) / num_test\n",
    "print('Got %d / %d correct => accuracy: %f' % (num_correct, num_test, accuracy))"
   ]
  },
  {
   "cell_type": "code",
   "execution_count": 10,
   "metadata": {},
   "outputs": [
    {
     "name": "stdout",
     "output_type": "stream",
     "text": [
      "k = 1, accuracy = 0.390300\n",
      "k = 1, accuracy = 0.000000\n",
      "k = 1, accuracy = 0.000000\n",
      "k = 1, accuracy = 0.000000\n",
      "k = 1, accuracy = 0.000000\n",
      "mean for k=1 is 0.078060\n",
      "k = 3, accuracy = 0.436500\n",
      "k = 3, accuracy = 0.000000\n",
      "k = 3, accuracy = 0.000000\n",
      "k = 3, accuracy = 0.000000\n",
      "k = 3, accuracy = 0.000000\n",
      "mean for k=3 is 0.087300\n",
      "k = 5, accuracy = 0.456600\n",
      "k = 5, accuracy = 0.000000\n",
      "k = 5, accuracy = 0.000000\n",
      "k = 5, accuracy = 0.000000\n",
      "k = 5, accuracy = 0.000000\n",
      "mean for k=5 is 0.091320\n",
      "k = 8, accuracy = 0.507700\n",
      "k = 8, accuracy = 0.000000\n",
      "k = 8, accuracy = 0.000000\n",
      "k = 8, accuracy = 0.000000\n",
      "k = 8, accuracy = 0.000000\n",
      "mean for k=8 is 0.101540\n",
      "k = 10, accuracy = 0.516000\n",
      "k = 10, accuracy = 0.000000\n",
      "k = 10, accuracy = 0.000000\n",
      "k = 10, accuracy = 0.000000\n",
      "k = 10, accuracy = 0.000000\n",
      "mean for k=10 is 0.103200\n",
      "k = 12, accuracy = 0.520400\n",
      "k = 12, accuracy = 0.000000\n",
      "k = 12, accuracy = 0.000000\n",
      "k = 12, accuracy = 0.000000\n",
      "k = 12, accuracy = 0.000000\n",
      "mean for k=12 is 0.104080\n",
      "k = 15, accuracy = 0.510700\n",
      "k = 15, accuracy = 0.000000\n",
      "k = 15, accuracy = 0.000000\n",
      "k = 15, accuracy = 0.000000\n",
      "k = 15, accuracy = 0.000000\n",
      "mean for k=15 is 0.102140\n",
      "k = 20, accuracy = 0.535000\n",
      "k = 20, accuracy = 0.000000\n",
      "k = 20, accuracy = 0.000000\n",
      "k = 20, accuracy = 0.000000\n",
      "k = 20, accuracy = 0.000000\n",
      "mean for k=20 is 0.107000\n",
      "k = 50, accuracy = 0.561800\n",
      "k = 50, accuracy = 0.000000\n",
      "k = 50, accuracy = 0.000000\n",
      "k = 50, accuracy = 0.000000\n",
      "k = 50, accuracy = 0.000000\n",
      "mean for k=50 is 0.112360\n",
      "k = 100, accuracy = 0.587900\n",
      "k = 100, accuracy = 0.000000\n",
      "k = 100, accuracy = 0.000000\n",
      "k = 100, accuracy = 0.000000\n",
      "k = 100, accuracy = 0.000000\n",
      "mean for k=100 is 0.117580\n"
     ]
    }
   ],
   "source": [
    "num_folds = 5\n",
    "k_choices = [1, 3, 5, 8, 10, 12, 15, 20, 50, 100]\n",
    "\n",
    "X_train_folds = []\n",
    "y_train_folds = []\n",
    "\n",
    "# Split up the training data into folds \n",
    "# y_train_folds[i] is the label vector for the points in X_train_folds[i].     \n",
    "\n",
    "X_train_folds = np.array(np.array_split(X_train, num_folds))\n",
    "y_train_folds = np.array(np.array_split(y_train, num_folds))\n",
    "\n",
    "\n",
    "# A dictionary holding the accuracies for different values of k that we find\n",
    "# when running cross-validation. After running cross-validation,\n",
    "# k_to_accuracies[k] should be a list of length num_folds giving the different\n",
    "# accuracy values that we found when using that value of k.\n",
    "k_to_accuracies = {}\n",
    "\n",
    "# Perform k-fold cross validation to find the best value of k. For each        \n",
    "# possible value of k, run the k-nearest-neighbor algorithm num_folds times,   \n",
    "# where in each case you use all but one of the folds as training data and the \n",
    "# last fold as a validation set. Store the accuracies for all fold and all     \n",
    "# values of k in the k_to_accuracies dictionary.                               \n",
    "\n",
    "for k in k_choices:\n",
    "    for n in xrange(num_folds):\n",
    "        combinat = [x for x in xrange(num_folds) if x != n] \n",
    "        x_training_dat = np.concatenate(X_train_folds[combinat])\n",
    "        y_training_dat = np.concatenate(y_train_folds[combinat])\n",
    "        classifier_k = KNearestNeighbor()\n",
    "        classifier_k.train(x_training_dat, y_training_dat)\n",
    "        y_cross_validation_pred = classifier_k.predict_labels(X_train_folds[n], k)\n",
    "        num_correct = np.sum(y_cross_validation_pred == y_train_folds[n])\n",
    "        accuracy = float(num_correct) / num_test\n",
    "        k_to_accuracies.setdefault(k, []).append(accuracy)\n",
    "\n",
    "# Print out the computed accuracies\n",
    "for k in sorted(k_to_accuracies):\n",
    "    for accuracy in k_to_accuracies[k]:\n",
    "        #print('k = %d, accuracy = '%f' % (k, accuracy))\n",
    "        print('k = %d, accuracy = %f' % (k, accuracy))\n",
    "    print('mean for k=%d is %f' % (k, np.mean(k_to_accuracies[k])))"
   ]
  },
  {
   "cell_type": "code",
   "execution_count": null,
   "metadata": {},
   "outputs": [],
   "source": []
  }
 ],
 "metadata": {
  "kernelspec": {
   "display_name": "Python 3",
   "language": "python",
   "name": "python3"
  },
  "language_info": {
   "codemirror_mode": {
    "name": "ipython",
    "version": 3
   },
   "file_extension": ".py",
   "mimetype": "text/x-python",
   "name": "python",
   "nbconvert_exporter": "python",
   "pygments_lexer": "ipython3",
   "version": "3.6.6"
  }
 },
 "nbformat": 4,
 "nbformat_minor": 2
}
